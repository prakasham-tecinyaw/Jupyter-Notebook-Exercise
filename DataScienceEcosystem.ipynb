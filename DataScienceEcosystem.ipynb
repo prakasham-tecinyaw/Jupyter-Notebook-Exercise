{
 "cells": [
  {
   "cell_type": "markdown",
   "id": "166c1686-4746-4596-8cc4-8edb2da6a3c1",
   "metadata": {
    "tags": []
   },
   "source": [
    "# Data Science Tools and Ecosystem"
   ]
  },
  {
   "cell_type": "markdown",
   "id": "30951046-fd33-45c2-afbe-eb54493beb08",
   "metadata": {},
   "source": [
    "In the notebook, Data Science Tools and Ecosystem are summarized."
   ]
  },
  {
   "cell_type": "markdown",
   "id": "37ef2c53-443c-468a-80c3-77bfd6b79964",
   "metadata": {},
   "source": [
    "Some of the popular languages that Data Scientists use are:\n",
    "<ol>\n",
    "<li>Python</li>\n",
    "<li>R</li>\n",
    "<li>SQL</li>\n",
    "</ol>"
   ]
  },
  {
   "cell_type": "markdown",
   "id": "c88ca706-f9e5-4993-af40-e5e230c02e25",
   "metadata": {},
   "source": [
    "Some of the commonly used libraries used by Data Scientists include:\n",
    "<ol>\n",
    "<li>Pandas</li>\n",
    "<li>Numpy</li>\n",
    "<li>Matplotlib</li>\n",
    "</ol>"
   ]
  },
  {
   "cell_type": "markdown",
   "id": "daaf57f4-c42e-41fe-adcb-3ed372dd6fa4",
   "metadata": {},
   "source": [
    "|Data Science Tools  |\n",
    "|--------------------|\n",
    "| Tableau             |\n",
    "| SAS              |\n",
    "| Jupyter Notebook         |"
   ]
  },
  {
   "cell_type": "markdown",
   "id": "66661d59-3936-4113-bcc3-b651fb2511d0",
   "metadata": {},
   "source": [
    "### Below are a few examples of evaluating arithmetic expressions in Python. "
   ]
  },
  {
   "cell_type": "markdown",
   "id": "6a851c21-695d-4668-aaf4-8442f63f9c1d",
   "metadata": {},
   "source": [
    "This a simple arithmetic expression to multiply then add integers."
   ]
  },
  {
   "cell_type": "code",
   "execution_count": 5,
   "id": "8eae52c4-46fe-477f-9559-3c7ef5642867",
   "metadata": {
    "tags": []
   },
   "outputs": [
    {
     "data": {
      "text/plain": [
       "17"
      ]
     },
     "execution_count": 5,
     "metadata": {},
     "output_type": "execute_result"
    }
   ],
   "source": [
    "(3*4)+5"
   ]
  },
  {
   "cell_type": "markdown",
   "id": "b793fee9-bc53-49d6-9c97-3a7088143141",
   "metadata": {},
   "source": [
    "This will convert 200 minutes to hours by dividing by 60."
   ]
  },
  {
   "cell_type": "code",
   "execution_count": 6,
   "id": "d96df8cf-4355-403a-820e-ed530a8477ac",
   "metadata": {
    "tags": []
   },
   "outputs": [
    {
     "data": {
      "text/plain": [
       "3.3333333333333335"
      ]
     },
     "execution_count": 6,
     "metadata": {},
     "output_type": "execute_result"
    }
   ],
   "source": [
    "200/60"
   ]
  },
  {
   "cell_type": "markdown",
   "id": "5283a1aa-710c-42ee-8f87-694f8c887504",
   "metadata": {
    "tags": []
   },
   "source": [
    "**Objectives:**\n",
    "\n",
    "<ul>\n",
    "<li>Popular languages for Data Scientist</li>\n",
    "<li>Commonly used libraries for by Data Scientist</li>\n",
    "<li>Data Science Tools</li>\n",
    "</ul>"
   ]
  },
  {
   "cell_type": "markdown",
   "id": "eac92a72-3e6a-42bc-9fdb-7402293f30f4",
   "metadata": {},
   "source": [
    "## Prakasham Pillay"
   ]
  },
  {
   "cell_type": "code",
   "execution_count": null,
   "id": "39a7186a-2ca9-4640-965d-6f81992234be",
   "metadata": {},
   "outputs": [],
   "source": []
  }
 ],
 "metadata": {
  "kernelspec": {
   "display_name": "Python",
   "language": "python",
   "name": "conda-env-python-py"
  },
  "language_info": {
   "codemirror_mode": {
    "name": "ipython",
    "version": 3
   },
   "file_extension": ".py",
   "mimetype": "text/x-python",
   "name": "python",
   "nbconvert_exporter": "python",
   "pygments_lexer": "ipython3",
   "version": "3.7.12"
  }
 },
 "nbformat": 4,
 "nbformat_minor": 5
}
